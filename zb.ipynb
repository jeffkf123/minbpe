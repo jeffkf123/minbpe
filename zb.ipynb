{
 "cells": [
  {
   "cell_type": "code",
   "execution_count": 1,
   "metadata": {},
   "outputs": [
    {
     "name": "stdout",
     "output_type": "stream",
     "text": [
      "{(1, 2): 2, (2, 3): 1, (3, 1): 1}\n"
     ]
    }
   ],
   "source": [
    "def getstat(ints, counts = None):\n",
    "    counts = {} if counts is None else counts\n",
    "    for pair in zip(ints, ints[1:]):\n",
    "        counts[pair] = counts.get(pair, 0) + 1\n",
    "    return counts\n",
    "\n",
    "print(getstat([1, 2, 3, 1, 2]))"
   ]
  },
  {
   "cell_type": "code",
   "execution_count": null,
   "metadata": {},
   "outputs": [],
   "source": [
    "def merge(ints, pair, nint):\n",
    "    out = []\n",
    "    i=0\n",
    "    while i<len(ints):\n",
    "        #check pair match and no last pos\n",
    "        if pair[0]==ints[i] and pair[1]==ints[i+1] and i<len(ints)-1:\n",
    "            out.append(nint)\n",
    "            i+=2\n",
    "        else:\n",
    "            out.append(ints[i])\n",
    "            i+=1\n",
    "    return out\n",
    "\n"
   ]
  }
 ],
 "metadata": {
  "kernelspec": {
   "display_name": "Python 3",
   "language": "python",
   "name": "python3"
  },
  "language_info": {
   "codemirror_mode": {
    "name": "ipython",
    "version": 3
   },
   "file_extension": ".py",
   "mimetype": "text/x-python",
   "name": "python",
   "nbconvert_exporter": "python",
   "pygments_lexer": "ipython3",
   "version": "3.12.6"
  }
 },
 "nbformat": 4,
 "nbformat_minor": 2
}
